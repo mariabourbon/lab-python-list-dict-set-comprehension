{
 "cells": [
  {
   "cell_type": "markdown",
   "id": "25d7736c-ba17-4aff-b6bb-66eba20fbf4e",
   "metadata": {},
   "source": [
    "# Lab | List, Dict and Set Comprehension"
   ]
  },
  {
   "cell_type": "markdown",
   "id": "7dd3cbde-675a-4b81-92c3-f728846dbe06",
   "metadata": {},
   "source": [
    "## Exercise: Managing Customer Orders Optimized with Comprehension"
   ]
  },
  {
   "cell_type": "markdown",
   "id": "5d500160-2fb7-4777-b5e4-09d45ebaf328",
   "metadata": {},
   "source": [
    "In the previous exercise, you developed a program to manage customer orders and inventory. Now, let's take it a step further and incorporate comprehension into your code.\n",
    "\n",
    "Follow the steps below to complete the exercise:\n",
    "\n",
    "1. Review your code from the previous exercise and identify areas where you can apply comprehension to simplify and streamline your code. \n",
    "\n",
    "    - *Hint: Apply it to initialize inventory, updating the inventory and printing the updated inventory.*\n",
    "    \n",
    "    - For example, in initializing the inventory, we could have:\n",
    "    \n",
    "        ```python\n",
    "        def initialize_inventory(products):\n",
    "            inventory = {product: int(input(f\"Enter the quantity of {product}s available: \")) for product in products}\n",
    "            return inventory\n",
    "\n",
    "        ```\n",
    "<br>\n",
    "    \n",
    "    \n",
    "2. Modify the function get_customer_orders so it prompts the user to enter the number of customer orders and gathers the product names using a loop and user input. Use comprehension.\n",
    "\n",
    "3. Add a new function to calculate the total price of the customer order. For each product in customer_orders, prompt the user to enter the price of that product. Use comprehension to calculate the total price. Note: assume that the user can only have 1 unit of each product.\n",
    "\n",
    "4. Modify the update_inventory function to remove the product from the inventory if its quantity becomes zero after fulfilling the customer orders. Use comprehension to filter out the products with a quantity of zero from the inventory.\n",
    "\n",
    "5. Print the total price of the customer order.\n",
    "\n",
    "Your code should produce output similar to the following:\n",
    "\n",
    "```python\n",
    "Enter the quantity of t-shirts available:  5\n",
    "Enter the quantity of mugs available:  4\n",
    "Enter the quantity of hats available:  3\n",
    "Enter the quantity of books available:  2\n",
    "Enter the quantity of keychains available:  1\n",
    "Enter the number of customer orders:  2\n",
    "Enter the name of a product that a customer wants to order:  hat\n",
    "Enter the name of a product that a customer wants to order:  keychain\n",
    "\n",
    "Order Statistics:\n",
    "Total Products Ordered: 2\n",
    "Percentage of Unique Products Ordered: 40.0\n",
    "\n",
    "Updated Inventory:\n",
    "t-shirt: 5\n",
    "mug: 4\n",
    "hat: 2\n",
    "book: 2\n",
    "Enter the price of keychain:  5\n",
    "Enter the price of hat:  10\n",
    "Total Price: 15.0\n",
    "\n",
    "```\n"
   ]
  },
  {
   "cell_type": "code",
   "execution_count": 20,
   "id": "f6fdc624",
   "metadata": {},
   "outputs": [],
   "source": [
    "products = [\"t-shirt\", \"mug\", \"hat\", \"book\", \"keychain\"]"
   ]
  },
  {
   "cell_type": "code",
   "execution_count": 21,
   "id": "074902f4",
   "metadata": {},
   "outputs": [],
   "source": [
    "def initialize_inventory (products): #Define a function named initialize_inventory that takes products as a parameter.\n",
    "    inventory = {product: int(input(f\"Enter the quantity of the {product}s available:\"))for product in products}\n",
    "\n",
    "    return(inventory)"
   ]
  },
  {
   "cell_type": "code",
   "execution_count": 11,
   "id": "02998336",
   "metadata": {},
   "outputs": [],
   "source": [
    "def get_customer_orders():\n",
    "    customer_orders = set() #para não ter mais que uma compra do mesmo produto\n",
    "    while True:\n",
    "        amount = int(input(\"Enter the number of customer orders:\"))\n",
    "        a = 0 #para a compra não ser igual a 0, ou seja, a\n",
    "        while(amount != a):\n",
    "            product = input(\"Enter the name of a product that a customer wants to order: \")\n",
    "            customer_orders.add(product)\n",
    "            a += 1 #to count the number of orders\n",
    "        break\n",
    "    return customer_orders"
   ]
  },
  {
   "cell_type": "code",
   "execution_count": 12,
   "id": "fc54f0e3",
   "metadata": {},
   "outputs": [],
   "source": [
    "def update_inventory(customer_orders, inventory):\n",
    "    updated_inventory = {product: quantity - 1 if product in customers_orders and quantity > 0 else quantity for product, quantity in inventory.items()}\n",
    "    #.items() dá me os pares de keys e values\n",
    "    \n",
    "    return updated_inventory"
   ]
  },
  {
   "cell_type": "code",
   "execution_count": 13,
   "id": "a20df7bf",
   "metadata": {},
   "outputs": [],
   "source": [
    "products = [\"t-shirt\", \"mug\", \"hat\", \"book\", \"keychain\"]\n"
   ]
  },
  {
   "cell_type": "code",
   "execution_count": 14,
   "id": "3ce44c5c",
   "metadata": {},
   "outputs": [],
   "source": [
    "#Statistics:\n",
    "\n",
    "def calculate_order_statistics(customers_orders,products):\n",
    "    ordered_products =len(customers_orders)\n",
    "    available_products = len(products)\n",
    "    percentage = ((ordered_products/available_products)*100)\n",
    "    \n",
    "    return (ordered_products,percentage)\n"
   ]
  },
  {
   "cell_type": "code",
   "execution_count": 15,
   "id": "ace44670",
   "metadata": {},
   "outputs": [],
   "source": [
    "# Define a function named print_order_statistics that takes order_statistics as a parameter. \n",
    "\n",
    "def print_order_statistics(order_statistics):\n",
    "    \n",
    "    ordered_products,percentage = order_statistics\n",
    "    return {\"Total products ordered\": ordered_products, \"Percentage of products\":f\"{percentage}%\"}\n",
    "\n",
    "\n"
   ]
  },
  {
   "cell_type": "code",
   "execution_count": 16,
   "id": "d60c9bd2",
   "metadata": {},
   "outputs": [],
   "source": [
    "## Define a function named print_updated_inventory that takes inventory as a parameter. \n",
    "\n",
    "def print_updated_inventory (inventory):\n",
    "    for product in inventory:\n",
    "        if product not in customers_orders:\n",
    "            print(f\"Updated Inventory: {product}: {inventory[product]}\")\n",
    "# no exemplo, não percebi se deveria print todos os produtos updated ou só alguns, porque o keychain não aparece"
   ]
  },
  {
   "cell_type": "code",
   "execution_count": 17,
   "id": "b1bf7181",
   "metadata": {},
   "outputs": [],
   "source": [
    "def calculate_total_price(customers_orders):\n",
    "    total_price = sum(float(input(f\"Enter the price for {product}:\"))for product in customers_orders)\n",
    "    return total_price \n"
   ]
  },
  {
   "cell_type": "code",
   "execution_count": 22,
   "id": "2f11460a",
   "metadata": {},
   "outputs": [
    {
     "name": "stdout",
     "output_type": "stream",
     "text": [
      "Enter the quantity of the t-shirts available:5\n",
      "Enter the quantity of the mugs available:4\n",
      "Enter the quantity of the hats available:3\n",
      "Enter the quantity of the books available:2\n",
      "Enter the quantity of the keychains available:1\n",
      "Enter the number of customer orders:2\n",
      "Enter the name of a product that a customer wants to order: hat\n",
      "Enter the name of a product that a customer wants to order: keychain\n",
      "Order Statistics:\n",
      "Total Products Ordered: 2\n",
      "Percentage of Products Ordered: 40.0%\n",
      "Updated Inventory: t-shirt: 5\n",
      "Updated Inventory: mug: 4\n",
      "Updated Inventory: book: 2\n",
      "Enter the price for keychain:5\n",
      "Enter the price for hat:10\n",
      "Total price: 15.0\n"
     ]
    }
   ],
   "source": [
    "inventory = initialize_inventory(products)\n",
    "customers_orders = get_customer_orders()\n",
    "inventory = update_inventory(customers_orders, inventory)\n",
    "order_statistics = calculate_order_statistics(customers_orders,products)\n",
    "print(\"Order Statistics:\")\n",
    "print(f\"Total Products Ordered: {len(customers_orders)}\")\n",
    "ordered_products = len(customers_orders)\n",
    "available_products = len(products)\n",
    "percentage = (ordered_products / available_products) * 100\n",
    "print(f\"Percentage of Products Ordered: {percentage}%\")\n",
    "print_updated_inventory(inventory)\n",
    "total_price = calculate_total_price(customers_orders)\n",
    "print(f\"Total price: {total_price}\") "
   ]
  },
  {
   "cell_type": "code",
   "execution_count": null,
   "id": "71a9f216",
   "metadata": {},
   "outputs": [],
   "source": []
  }
 ],
 "metadata": {
  "kernelspec": {
   "display_name": "Python 3 (ipykernel)",
   "language": "python",
   "name": "python3"
  },
  "language_info": {
   "codemirror_mode": {
    "name": "ipython",
    "version": 3
   },
   "file_extension": ".py",
   "mimetype": "text/x-python",
   "name": "python",
   "nbconvert_exporter": "python",
   "pygments_lexer": "ipython3",
   "version": "3.11.5"
  }
 },
 "nbformat": 4,
 "nbformat_minor": 5
}
